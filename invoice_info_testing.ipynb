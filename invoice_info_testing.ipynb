{
 "cells": [
  {
   "cell_type": "code",
   "execution_count": null,
   "metadata": {},
   "outputs": [],
   "source": [
    "%pip install ollama PyPDF2"
   ]
  },
  {
   "cell_type": "code",
   "execution_count": 1,
   "metadata": {},
   "outputs": [],
   "source": [
    "import ollama\n",
    "import PyPDF2\n",
    "import json"
   ]
  },
  {
   "cell_type": "code",
   "execution_count": 3,
   "metadata": {},
   "outputs": [
    {
     "name": "stdout",
     "output_type": "stream",
     "text": [
      "3\n"
     ]
    }
   ],
   "source": [
    "file_path = '/Users/abbasraza/Desktop/llmExperiments/OP-GEMAITESTING/sample-invoice.pdf'\n",
    "reader = PyPDF2.PdfReader(file_path)\n",
    "num_pages = len(reader.pages)\n",
    "print(num_pages)"
   ]
  },
  {
   "cell_type": "code",
   "execution_count": 4,
   "metadata": {},
   "outputs": [],
   "source": [
    "all_text = \"\"\n",
    "for page_num in range(num_pages):\n",
    "    page = reader.pages[page_num]\n",
    "    all_text += page.extract_text()\n",
    "    "
   ]
  },
  {
   "cell_type": "code",
   "execution_count": 5,
   "metadata": {},
   "outputs": [],
   "source": [
    "response = ollama.chat(\n",
    "    model = 'llama3.1',\n",
    "    messages = [\n",
    "        {\n",
    "            'role': 'user',\n",
    "            'content': f\"\"\"Read this invoice: {all_text}.\n",
    "            Answer to these questions \n",
    "            \"dateOfIssue\": this is the date that invoice has been issued in YYYYMMDD format. If you can not find it, return \"null\",\n",
    "            \"totalVATexclude\": this is the total sum of the invoice before tax. If you can not find it, return \"null\",\n",
    "            \"VAT\": this is the VAT/tax amount. If you can not find it, return \"null\",\n",
    "            \"totalVATinclude\": this is the total sum of the invoice after tax. If you can not find it, return \"null\",\n",
    "            \"dueDate\": this is the due date of the invoice in YYYYMMDD format. If you can not find it, return \"null\",\n",
    "            \"contactInformation\": this is all contact information of the issuer of the invoice. If you can not find it, return \"null\".\n",
    "\n",
    "            You must always return in JSON format. Only return the JSON and do not add any additional information. \n",
    "            \"\"\",\n",
    "        },\n",
    "    ]\n",
    ")"
   ]
  },
  {
   "cell_type": "code",
   "execution_count": 6,
   "metadata": {},
   "outputs": [
    {
     "name": "stdout",
     "output_type": "stream",
     "text": [
      "Here are the answers to the questions:\n",
      "\n",
      "```\n",
      "{\n",
      "  \"dateOfIssue\": \"20240301\",\n",
      "  \"totalVATexclude\": \"381.12\",\n",
      "  \"VAT\": \"72.41\",\n",
      "  \"totalVATinclude\": \"453.53\",\n",
      "  \"dueDate\": null,\n",
      "  \"contactInformation\": {\n",
      "    \"name\": \"Stefanie Müller\",\n",
      "    \"phone\": \"+49 9371 9786-0\"\n",
      "  }\n",
      "}\n",
      "```\n",
      "\n",
      "Note that the due date is not specified on the invoice, so it's set to `null` in the output.\n"
     ]
    }
   ],
   "source": [
    "print(response['message']['content'])"
   ]
  },
  {
   "cell_type": "code",
   "execution_count": 20,
   "metadata": {},
   "outputs": [
    {
     "data": {
      "text/plain": [
       "{'dateOfIssue': '20240301',\n",
       " 'totalVATexclude': '381.12',\n",
       " 'VAT': '72.41',\n",
       " 'totalVATinclude': '453.53',\n",
       " 'dueDate': None,\n",
       " 'contactInformation': {'name': 'Stefanie Müller', 'phone': '+49 9371 9786-0'}}"
      ]
     },
     "execution_count": 20,
     "metadata": {},
     "output_type": "execute_result"
    }
   ],
   "source": [
    "json_response = json.loads(response['message']['content'].split(\"```\")[1].strip())\n",
    "json_response"
   ]
  },
  {
   "cell_type": "code",
   "execution_count": 15,
   "metadata": {},
   "outputs": [
    {
     "name": "stdout",
     "output_type": "stream",
     "text": [
      "\n",
      "{\n",
      "  \"dateOfIssue\": \"20240301\",\n",
      "  \"totalVATexclude\": \"381.12\",\n",
      "  \"VAT\": \"72.41\",\n",
      "  \"totalVATinclude\": \"453.53\",\n",
      "  \"dueDate\": null,\n",
      "  \"contactInformation\": {\n",
      "    \"name\": \"Stefanie Müller\",\n",
      "    \"phone\": \"+49 9371 9786-0\"\n",
      "  }\n",
      "}\n",
      "\n"
     ]
    }
   ],
   "source": [
    "print(json_response)"
   ]
  },
  {
   "cell_type": "code",
   "execution_count": null,
   "metadata": {},
   "outputs": [],
   "source": []
  }
 ],
 "metadata": {
  "kernelspec": {
   "display_name": "Python 3",
   "language": "python",
   "name": "python3"
  },
  "language_info": {
   "codemirror_mode": {
    "name": "ipython",
    "version": 3
   },
   "file_extension": ".py",
   "mimetype": "text/x-python",
   "name": "python",
   "nbconvert_exporter": "python",
   "pygments_lexer": "ipython3",
   "version": "3.11.9"
  }
 },
 "nbformat": 4,
 "nbformat_minor": 2
}
