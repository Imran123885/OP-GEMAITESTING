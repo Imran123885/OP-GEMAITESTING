{
 "cells": [
  {
   "cell_type": "code",
   "execution_count": 6,
   "metadata": {},
   "outputs": [
    {
     "name": "stdout",
     "output_type": "stream",
     "text": [
      "Requirement already satisfied: requests in c:\\users\\imran\\appdata\\local\\programs\\python\\python311\\lib\\site-packages (2.32.3)\n",
      "Requirement already satisfied: charset-normalizer<4,>=2 in c:\\users\\imran\\appdata\\local\\programs\\python\\python311\\lib\\site-packages (from requests) (3.3.2)\n",
      "Requirement already satisfied: idna<4,>=2.5 in c:\\users\\imran\\appdata\\local\\programs\\python\\python311\\lib\\site-packages (from requests) (3.10)\n",
      "Requirement already satisfied: urllib3<3,>=1.21.1 in c:\\users\\imran\\appdata\\local\\programs\\python\\python311\\lib\\site-packages (from requests) (2.2.3)\n",
      "Requirement already satisfied: certifi>=2017.4.17 in c:\\users\\imran\\appdata\\local\\programs\\python\\python311\\lib\\site-packages (from requests) (2024.8.30)\n",
      "Note: you may need to restart the kernel to use updated packages.\n"
     ]
    },
    {
     "name": "stderr",
     "output_type": "stream",
     "text": [
      "\n",
      "[notice] A new release of pip is available: 23.3.1 -> 24.2\n",
      "[notice] To update, run: python.exe -m pip install --upgrade pip\n"
     ]
    }
   ],
   "source": [
    "# %pip install openai\n",
    "%pip install requests"
   ]
  },
  {
   "cell_type": "code",
   "execution_count": 2,
   "metadata": {},
   "outputs": [],
   "source": [
    "from openai import OpenAI\n",
    "from IPython.display import Markdown\n",
    "import requests\n",
    "import json\n",
    "import os"
   ]
  },
  {
   "cell_type": "code",
   "execution_count": 3,
   "metadata": {},
   "outputs": [],
   "source": [
    "OPENAI_KEY = os.getenv(\"OPENAI_API_KEY\")\n",
    "GEMINI_KEY = os.getenv(\"GEMINI_API_KEY\")"
   ]
  },
  {
   "cell_type": "code",
   "execution_count": 4,
   "metadata": {},
   "outputs": [
    {
     "name": "stdout",
     "output_type": "stream",
     "text": [
      "{\n",
      "  \"candidates\": [\n",
      "    {\n",
      "      \"content\": {\n",
      "        \"parts\": [\n",
      "          {\n",
      "            \"text\": \"## AI: A Simplified Explanation\\n\\nArtificial intelligence (AI) is a vast field, but at its core, it's about creating intelligent systems that can **learn, reason, and solve problems like humans do**. \\n\\nHere's a breakdown of how AI works, focusing on the most common approaches:\\n\\n**1. Machine Learning (ML):**\\n\\n* **The foundation:** ML is a subset of AI where computers learn from data without explicit programming. \\n* **How it works:** ML algorithms are trained on large datasets, allowing them to identify patterns and make predictions. \\n* **Types of ML:**\\n    * **Supervised learning:** The algorithm is given labeled data (input and desired output) to learn from. Examples: image recognition, spam filtering.\\n    * **Unsupervised learning:** The algorithm learns from unlabeled data, finding hidden patterns and structures. Examples: customer segmentation, anomaly detection.\\n    * **Reinforcement learning:** The algorithm learns through trial and error, receiving rewards for good actions and penalties for bad ones. Examples: game playing, robot control.\\n\\n**2. Deep Learning (DL):**\\n\\n* **A powerful subset of ML:** DL uses artificial neural networks, inspired by the human brain, to analyze complex data. \\n* **How it works:**  These networks have layers of interconnected nodes (neurons) that learn to extract features from data. The more layers, the more complex the patterns it can detect.\\n* **Applications:** Image recognition, natural language processing, speech synthesis, self-driving cars.\\n\\n**3. Key Components of AI Systems:**\\n\\n* **Data:** AI thrives on data, which acts as fuel for learning and decision-making.\\n* **Algorithms:** These are sets of instructions that tell the AI how to process data and learn from it.\\n* **Models:** After training, the algorithm produces a model that represents the learned knowledge. \\n* **Inference:** This is the process of using the trained model to make predictions or take actions.\\n\\n**4. Examples of AI in Action:**\\n\\n* **Smart assistants:** Siri, Alexa, Google Assistant use NLP to understand your voice commands.\\n* **Recommender systems:** Netflix, Amazon, Spotify use ML to suggest content you might like.\\n* **Self-driving cars:**  Deep learning is used to process real-time sensor data for navigation and decision-making.\\n\\n**5. The Future of AI:**\\n\\nAI is rapidly evolving, with potential to revolutionize numerous industries. It's expected to bring advancements in areas like:\\n\\n* **Healthcare:**  Early disease detection, personalized treatment plans.\\n* **Finance:** Fraud detection, risk assessment.\\n* **Manufacturing:**  Predictive maintenance, automated production.\\n\\n**In Summary:**\\n\\nAI is about creating intelligent systems that learn and solve problems. Machine learning and deep learning are core techniques, relying on data, algorithms, and models. AI has vast potential to impact our lives, but it's important to use it responsibly and ethically. \\n\"\n",
      "          }\n",
      "        ],\n",
      "        \"role\": \"model\"\n",
      "      },\n",
      "      \"finishReason\": \"STOP\",\n",
      "      \"index\": 0,\n",
      "      \"safetyRatings\": [\n",
      "        {\n",
      "          \"category\": \"HARM_CATEGORY_SEXUALLY_EXPLICIT\",\n",
      "          \"probability\": \"NEGLIGIBLE\"\n",
      "        },\n",
      "        {\n",
      "          \"category\": \"HARM_CATEGORY_HATE_SPEECH\",\n",
      "          \"probability\": \"NEGLIGIBLE\"\n",
      "        },\n",
      "        {\n",
      "          \"category\": \"HARM_CATEGORY_HARASSMENT\",\n",
      "          \"probability\": \"NEGLIGIBLE\"\n",
      "        },\n",
      "        {\n",
      "          \"category\": \"HARM_CATEGORY_DANGEROUS_CONTENT\",\n",
      "          \"probability\": \"NEGLIGIBLE\"\n",
      "        }\n",
      "      ]\n",
      "    }\n",
      "  ],\n",
      "  \"usageMetadata\": {\n",
      "    \"promptTokenCount\": 4,\n",
      "    \"candidatesTokenCount\": 622,\n",
      "    \"totalTokenCount\": 626\n",
      "  }\n",
      "}\n"
     ]
    }
   ],
   "source": [
    "url = \"https://generativelanguage.googleapis.com/v1beta/models/gemini-1.5-flash-latest:generateContent\"\n",
    "\n",
    "headers = {\n",
    "    \"Content-Type\": \"application/json\"\n",
    "}\n",
    "\n",
    "payload = {\n",
    "    \"contents\": [\n",
    "        {\n",
    "            \"parts\": [\n",
    "                {\"text\": \"Explain how AI works\"}\n",
    "            ]\n",
    "        }\n",
    "    ]\n",
    "}\n",
    "\n",
    "response = requests.post(f\"{url}?key={GEMINI_KEY}\", headers=headers, data=json.dumps(payload))\n",
    "\n",
    "if response.status_code == 200:\n",
    "    data = response.json()\n",
    "    print(json.dumps(data, indent=2))\n",
    "else:\n",
    "    print(f\"Error: {response.status_code}\")\n",
    "    print(response.text)\n"
   ]
  },
  {
   "cell_type": "code",
   "execution_count": 5,
   "metadata": {},
   "outputs": [
    {
     "data": {
      "text/markdown": [
       "Why did OpenAI break up with its algorithm? \n",
       "\n",
       "Because it wanted to see other \"models\"! "
      ],
      "text/plain": [
       "<IPython.core.display.Markdown object>"
      ]
     },
     "execution_count": 5,
     "metadata": {},
     "output_type": "execute_result"
    }
   ],
   "source": [
    "client = OpenAI(api_key=OPENAI_KEY)\n",
    "response_gpt = client.chat.completions.create(\n",
    "    model = \"gpt-4o-mini\",\n",
    "    messages = [\n",
    "        {\n",
    "            \"role\": \"user\",\n",
    "            \"content\": [\n",
    "                {\n",
    "                    \"type\": \"text\",\n",
    "                    \"text\": \n",
    "                    \"\"\"\n",
    "                    tell me a joke about openai.\n",
    "                    \"\"\"\n",
    "                },\n",
    "            ],\n",
    "        }\n",
    "    ],\n",
    ")\n",
    "answer = response_gpt.choices[0].message.content\n",
    "Markdown(answer)"
   ]
  },
  {
   "cell_type": "code",
   "execution_count": null,
   "metadata": {},
   "outputs": [],
   "source": []
  }
 ],
 "metadata": {
  "kernelspec": {
   "display_name": "Python 3",
   "language": "python",
   "name": "python3"
  },
  "language_info": {
   "codemirror_mode": {
    "name": "ipython",
    "version": 3
   },
   "file_extension": ".py",
   "mimetype": "text/x-python",
   "name": "python",
   "nbconvert_exporter": "python",
   "pygments_lexer": "ipython3",
   "version": "3.11.3"
  }
 },
 "nbformat": 4,
 "nbformat_minor": 2
}
