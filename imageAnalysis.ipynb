{
 "cells": [
  {
   "cell_type": "code",
   "execution_count": null,
   "metadata": {},
   "outputs": [],
   "source": [
    "# %pip install pillow openai\n",
    "# %pip install python-dotenv\n",
    "# %pip install google.generativeai"
   ]
  },
  {
   "cell_type": "code",
   "execution_count": null,
   "metadata": {},
   "outputs": [],
   "source": [
    "import base64 # Format that llms use to deal with image\n",
    "from PIL import Image\n",
    "from openai import OpenAI\n",
    "from IPython.display import Markdown\n",
    "import os\n",
    "from dotenv import load_dotenv"
   ]
  },
  {
   "cell_type": "code",
   "execution_count": null,
   "metadata": {},
   "outputs": [],
   "source": [
    "load_dotenv()\n",
    "OPENAI_KEY = os.getenv(\"OPENAI_API_KEY\")\n",
    "GEMINI_KEY = os.getenv(\"GEMINI_API_KEY\")"
   ]
  },
  {
   "cell_type": "code",
   "execution_count": null,
   "metadata": {},
   "outputs": [],
   "source": [
    "client = OpenAI(api_key=OPENAI_KEY)"
   ]
  },
  {
   "cell_type": "code",
   "execution_count": null,
   "metadata": {},
   "outputs": [],
   "source": [
    "def encode_image(image_path):\n",
    "    with open(image_path, \"rb\") as image_file:\n",
    "        return base64.b64encode(image_file.read()).decode('utf-8')"
   ]
  },
  {
   "cell_type": "code",
   "execution_count": 59,
   "metadata": {},
   "outputs": [],
   "source": [
    "image_path = '/Users/abbasraza/Desktop/llmExperiments/OP-GEMAITESTING/math.png'\n",
    "base64_image = encode_image(image_path)"
   ]
  },
  {
   "cell_type": "code",
   "execution_count": 60,
   "metadata": {},
   "outputs": [],
   "source": [
    "response_gpt = client.chat.completions.create(\n",
    "    model = \"gpt-4o\",\n",
    "    temperature = 0.001,\n",
    "    messages = [\n",
    "        {\n",
    "            \"role\": \"user\",\n",
    "            \"content\": [\n",
    "                {\n",
    "                    \"type\": \"text\",\n",
    "                    \"text\": \n",
    "                    \"\"\"\n",
    "                    You are a well known mathematician who has a PHD of math from Stanford. You should solve the equation that is provided.\n",
    "                    You should clearly state what the final answer is. \n",
    "                    \"\"\"\n",
    "                    # \"\"\"\n",
    "                    # You are an experimental psychologist. What can you say about the impression that this facial image is leaving behind?\n",
    "                    # You should give a value in percentages for each of 5 personality traits.\n",
    "                    # At the end, please write in one paragraph in these analysis in a way that a non-technical, simple person can also understand.\n",
    "                    # \"\"\"\n",
    "                },\n",
    "                {\n",
    "                    \"type\": \"image_url\",\n",
    "                    \"image_url\": {\n",
    "                        \"url\": f\"data:image/png;base64,{base64_image}\",\n",
    "                        \"detail\": \"high\"\n",
    "                    }\n",
    "                }\n",
    "            ],\n",
    "        }\n",
    "    ],\n",
    "    # max_tokens=300,\n",
    ")\n",
    "gpt4_res = response_gpt.choices[0].message.content"
   ]
  },
  {
   "cell_type": "code",
   "execution_count": 61,
   "metadata": {},
   "outputs": [
    {
     "data": {
      "text/markdown": [
       "To solve the given double integral \\(\\int_{0}^{2} \\int_{0}^{1} x^2 y^2 \\, dx \\, dy\\), we will integrate with respect to \\(x\\) first and then with respect to \\(y\\).\n",
       "\n",
       "1. **Integrate with respect to \\(x\\):**\n",
       "\n",
       "   \\[\n",
       "   \\int_{0}^{1} x^2 y^2 \\, dx\n",
       "   \\]\n",
       "\n",
       "   Since \\(y^2\\) is a constant with respect to \\(x\\), we can factor it out:\n",
       "\n",
       "   \\[\n",
       "   y^2 \\int_{0}^{1} x^2 \\, dx\n",
       "   \\]\n",
       "\n",
       "   Now, integrate \\(x^2\\) with respect to \\(x\\):\n",
       "\n",
       "   \\[\n",
       "   \\int_{0}^{1} x^2 \\, dx = \\left[ \\frac{x^3}{3} \\right]_{0}^{1} = \\frac{1^3}{3} - \\frac{0^3}{3} = \\frac{1}{3}\n",
       "   \\]\n",
       "\n",
       "   So, the integral becomes:\n",
       "\n",
       "   \\[\n",
       "   y^2 \\cdot \\frac{1}{3} = \\frac{y^2}{3}\n",
       "   \\]\n",
       "\n",
       "2. **Integrate with respect to \\(y\\):**\n",
       "\n",
       "   \\[\n",
       "   \\int_{0}^{2} \\frac{y^2}{3} \\, dy\n",
       "   \\]\n",
       "\n",
       "   Factor out the constant \\(\\frac{1}{3}\\):\n",
       "\n",
       "   \\[\n",
       "   \\frac{1}{3} \\int_{0}^{2} y^2 \\, dy\n",
       "   \\]\n",
       "\n",
       "   Now, integrate \\(y^2\\) with respect to \\(y\\):\n",
       "\n",
       "   \\[\n",
       "   \\int_{0}^{2} y^2 \\, dy = \\left[ \\frac{y^3}{3} \\right]_{0}^{2} = \\frac{2^3}{3} - \\frac{0^3}{3} = \\frac{8}{3}\n",
       "   \\]\n",
       "\n",
       "   So, the integral becomes:\n",
       "\n",
       "   \\[\n",
       "   \\frac{1}{3} \\cdot \\frac{8}{3} = \\frac{8}{9}\n",
       "   \\]\n",
       "\n",
       "Therefore, the final answer is:\n",
       "\n",
       "\\[\n",
       "\\boxed{\\frac{8}{9}}\n",
       "\\]"
      ],
      "text/plain": [
       "<IPython.core.display.Markdown object>"
      ]
     },
     "execution_count": 61,
     "metadata": {},
     "output_type": "execute_result"
    }
   ],
   "source": [
    "Markdown(gpt4_res)"
   ]
  },
  {
   "cell_type": "code",
   "execution_count": null,
   "metadata": {},
   "outputs": [],
   "source": [
    "import google.generativeai as genai \n",
    "\n",
    "genai.configure(api_key=GEMINI_KEY)\n",
    "\n",
    "img = Image.open(image_path)"
   ]
  },
  {
   "cell_type": "code",
   "execution_count": 40,
   "metadata": {},
   "outputs": [],
   "source": [
    "model = genai.GenerativeModel(model_name=\"models/gemini-1.5-pro\")\n",
    "response = model.generate_content([\"\"\"\n",
    "You are a well known stylist. Comment on the style of this person in a way that a simple person can understand.\n",
    "You may suggest they to improve the style so that it will be more impressive. \n",
    "\"\"\",img])\n",
    "gemini_res = response.text"
   ]
  },
  {
   "cell_type": "code",
   "execution_count": 41,
   "metadata": {},
   "outputs": [
    {
     "data": {
      "text/markdown": [
       "She's got that comfy-casual thing going on with the grey knit sweater and simple topknot. It's a practical, everyday look, but we can definitely pump up the style volume. \n",
       "\n",
       "Here are a few easy tweaks: \n",
       "\n",
       "* **Add a pop of color:** A scarf, necklace, or even lipstick in a fun shade would brighten up the whole outfit. \n",
       "* **Play with textures:** Imagine that sweater with a cool leather jacket or a flowy scarf. Mixing textures makes things more interesting.\n",
       "* **Accessorize, accessorize, accessorize:**  Earrings, a watch, or even a cute hat can take an outfit from basic to bam!\n",
       "\n",
       "Remember, style is all about expressing yourself, so have fun with it! \n"
      ],
      "text/plain": [
       "<IPython.core.display.Markdown object>"
      ]
     },
     "execution_count": 41,
     "metadata": {},
     "output_type": "execute_result"
    }
   ],
   "source": [
    "Markdown(gemini_res)"
   ]
  },
  {
   "cell_type": "markdown",
   "metadata": {},
   "source": [
    "You are an experimental psychologist. Only consider one single image as an input,\n",
    "then what can you say about only the first impression of this facial image is leaving behind?\n",
    "You must always provide an answer, even if it is an estimate.\n",
    "You should give a value in percentages for each of 5 personality traits.\n",
    "At the end, please write in one paragraph in these analysis in a way that a non-technical, simple person can also understand."
   ]
  }
 ],
 "metadata": {
  "kernelspec": {
   "display_name": "Python 3",
   "language": "python",
   "name": "python3"
  },
  "language_info": {
   "codemirror_mode": {
    "name": "ipython",
    "version": 3
   },
   "file_extension": ".py",
   "mimetype": "text/x-python",
   "name": "python",
   "nbconvert_exporter": "python",
   "pygments_lexer": "ipython3",
   "version": "3.11.9"
  }
 },
 "nbformat": 4,
 "nbformat_minor": 2
}
